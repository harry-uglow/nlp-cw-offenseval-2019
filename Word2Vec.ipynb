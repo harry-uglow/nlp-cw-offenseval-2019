{
 "cells": [
  {
   "cell_type": "code",
   "execution_count": 18,
   "metadata": {
    "collapsed": true
   },
   "outputs": [],
   "source": [
    "import pandas as pd"
   ]
  },
  {
   "cell_type": "code",
   "execution_count": 19,
   "metadata": {
    "collapsed": true
   },
   "outputs": [],
   "source": [
    "seed = 42"
   ]
  },
  {
   "cell_type": "code",
   "execution_count": 20,
   "metadata": {},
   "outputs": [
    {
     "data": {
      "text/html": [
       "<div>\n",
       "<style scoped>\n",
       "    .dataframe tbody tr th:only-of-type {\n",
       "        vertical-align: middle;\n",
       "    }\n",
       "\n",
       "    .dataframe tbody tr th {\n",
       "        vertical-align: top;\n",
       "    }\n",
       "\n",
       "    .dataframe thead th {\n",
       "        text-align: right;\n",
       "    }\n",
       "</style>\n",
       "<table border=\"1\" class=\"dataframe\">\n",
       "  <thead>\n",
       "    <tr style=\"text-align: right;\">\n",
       "      <th></th>\n",
       "      <th>id</th>\n",
       "      <th>subtask_a</th>\n",
       "      <th>subtask_b</th>\n",
       "      <th>subtask_c</th>\n",
       "      <th>hate_count</th>\n",
       "      <th>positive_count</th>\n",
       "      <th>negative_count</th>\n",
       "      <th>hate_normalized</th>\n",
       "      <th>positive_normalized</th>\n",
       "      <th>negative_normalized</th>\n",
       "      <th>...</th>\n",
       "      <th>90</th>\n",
       "      <th>91</th>\n",
       "      <th>92</th>\n",
       "      <th>93</th>\n",
       "      <th>94</th>\n",
       "      <th>95</th>\n",
       "      <th>96</th>\n",
       "      <th>97</th>\n",
       "      <th>98</th>\n",
       "      <th>99</th>\n",
       "    </tr>\n",
       "  </thead>\n",
       "  <tbody>\n",
       "    <tr>\n",
       "      <th>0</th>\n",
       "      <td>86426</td>\n",
       "      <td>OFF</td>\n",
       "      <td>UNT</td>\n",
       "      <td>NaN</td>\n",
       "      <td>0</td>\n",
       "      <td>0</td>\n",
       "      <td>0</td>\n",
       "      <td>0.0</td>\n",
       "      <td>0.000000</td>\n",
       "      <td>0.000000</td>\n",
       "      <td>...</td>\n",
       "      <td>-0.000262</td>\n",
       "      <td>-0.043734</td>\n",
       "      <td>-0.103292</td>\n",
       "      <td>0.095441</td>\n",
       "      <td>-0.086137</td>\n",
       "      <td>-0.167084</td>\n",
       "      <td>-0.083201</td>\n",
       "      <td>0.106072</td>\n",
       "      <td>-0.063322</td>\n",
       "      <td>-0.043647</td>\n",
       "    </tr>\n",
       "    <tr>\n",
       "      <th>1</th>\n",
       "      <td>90194</td>\n",
       "      <td>OFF</td>\n",
       "      <td>TIN</td>\n",
       "      <td>IND</td>\n",
       "      <td>0</td>\n",
       "      <td>0</td>\n",
       "      <td>0</td>\n",
       "      <td>0.0</td>\n",
       "      <td>0.000000</td>\n",
       "      <td>0.000000</td>\n",
       "      <td>...</td>\n",
       "      <td>0.085329</td>\n",
       "      <td>-0.036498</td>\n",
       "      <td>-0.041904</td>\n",
       "      <td>0.094420</td>\n",
       "      <td>-0.085861</td>\n",
       "      <td>-0.132010</td>\n",
       "      <td>-0.074978</td>\n",
       "      <td>0.103005</td>\n",
       "      <td>-0.056452</td>\n",
       "      <td>-0.002916</td>\n",
       "    </tr>\n",
       "    <tr>\n",
       "      <th>2</th>\n",
       "      <td>16820</td>\n",
       "      <td>NOT</td>\n",
       "      <td>NaN</td>\n",
       "      <td>NaN</td>\n",
       "      <td>0</td>\n",
       "      <td>1</td>\n",
       "      <td>0</td>\n",
       "      <td>0.0</td>\n",
       "      <td>0.037037</td>\n",
       "      <td>0.000000</td>\n",
       "      <td>...</td>\n",
       "      <td>0.024784</td>\n",
       "      <td>-0.036471</td>\n",
       "      <td>-0.061951</td>\n",
       "      <td>0.132558</td>\n",
       "      <td>-0.080589</td>\n",
       "      <td>-0.177264</td>\n",
       "      <td>-0.099771</td>\n",
       "      <td>0.093564</td>\n",
       "      <td>-0.097557</td>\n",
       "      <td>-0.007000</td>\n",
       "    </tr>\n",
       "    <tr>\n",
       "      <th>3</th>\n",
       "      <td>62688</td>\n",
       "      <td>OFF</td>\n",
       "      <td>UNT</td>\n",
       "      <td>NaN</td>\n",
       "      <td>0</td>\n",
       "      <td>0</td>\n",
       "      <td>1</td>\n",
       "      <td>0.0</td>\n",
       "      <td>0.000000</td>\n",
       "      <td>0.090909</td>\n",
       "      <td>...</td>\n",
       "      <td>0.007430</td>\n",
       "      <td>-0.006138</td>\n",
       "      <td>-0.098574</td>\n",
       "      <td>0.106535</td>\n",
       "      <td>-0.075268</td>\n",
       "      <td>-0.162966</td>\n",
       "      <td>-0.085685</td>\n",
       "      <td>0.091813</td>\n",
       "      <td>-0.074811</td>\n",
       "      <td>-0.019161</td>\n",
       "    </tr>\n",
       "    <tr>\n",
       "      <th>4</th>\n",
       "      <td>43605</td>\n",
       "      <td>NOT</td>\n",
       "      <td>NaN</td>\n",
       "      <td>NaN</td>\n",
       "      <td>0</td>\n",
       "      <td>0</td>\n",
       "      <td>0</td>\n",
       "      <td>0.0</td>\n",
       "      <td>0.000000</td>\n",
       "      <td>0.000000</td>\n",
       "      <td>...</td>\n",
       "      <td>0.043138</td>\n",
       "      <td>-0.005813</td>\n",
       "      <td>-0.103573</td>\n",
       "      <td>0.142955</td>\n",
       "      <td>-0.088360</td>\n",
       "      <td>-0.174962</td>\n",
       "      <td>-0.103088</td>\n",
       "      <td>0.109847</td>\n",
       "      <td>-0.079658</td>\n",
       "      <td>-0.000437</td>\n",
       "    </tr>\n",
       "  </tbody>\n",
       "</table>\n",
       "<p>5 rows × 110 columns</p>\n",
       "</div>"
      ],
      "text/plain": [
       "      id subtask_a subtask_b subtask_c  hate_count  positive_count  \\\n",
       "0  86426       OFF       UNT       NaN           0               0   \n",
       "1  90194       OFF       TIN       IND           0               0   \n",
       "2  16820       NOT       NaN       NaN           0               1   \n",
       "3  62688       OFF       UNT       NaN           0               0   \n",
       "4  43605       NOT       NaN       NaN           0               0   \n",
       "\n",
       "   negative_count  hate_normalized  positive_normalized  negative_normalized  \\\n",
       "0               0              0.0             0.000000             0.000000   \n",
       "1               0              0.0             0.000000             0.000000   \n",
       "2               0              0.0             0.037037             0.000000   \n",
       "3               1              0.0             0.000000             0.090909   \n",
       "4               0              0.0             0.000000             0.000000   \n",
       "\n",
       "     ...           90        91        92        93        94        95  \\\n",
       "0    ...    -0.000262 -0.043734 -0.103292  0.095441 -0.086137 -0.167084   \n",
       "1    ...     0.085329 -0.036498 -0.041904  0.094420 -0.085861 -0.132010   \n",
       "2    ...     0.024784 -0.036471 -0.061951  0.132558 -0.080589 -0.177264   \n",
       "3    ...     0.007430 -0.006138 -0.098574  0.106535 -0.075268 -0.162966   \n",
       "4    ...     0.043138 -0.005813 -0.103573  0.142955 -0.088360 -0.174962   \n",
       "\n",
       "         96        97        98        99  \n",
       "0 -0.083201  0.106072 -0.063322 -0.043647  \n",
       "1 -0.074978  0.103005 -0.056452 -0.002916  \n",
       "2 -0.099771  0.093564 -0.097557 -0.007000  \n",
       "3 -0.085685  0.091813 -0.074811 -0.019161  \n",
       "4 -0.103088  0.109847 -0.079658 -0.000437  \n",
       "\n",
       "[5 rows x 110 columns]"
      ]
     },
     "execution_count": 20,
     "metadata": {},
     "output_type": "execute_result"
    }
   ],
   "source": [
    "# Load the different features and join them\n",
    "word2vec = 'word2vec'\n",
    "\n",
    "labels_train = pd.read_csv('feature_vectors/labels_train.csv')\n",
    "labels_test = pd.read_csv('feature_vectors/labels_test.csv')\n",
    "\n",
    "sentiment_train = pd.read_csv('feature_vectors/sentiment_train.csv')\n",
    "sentiment_test = pd.read_csv('feature_vectors/sentiment_test.csv')\n",
    "\n",
    "word2vec_train = pd.read_csv('feature_vectors/train-word2vec-num_features_100_min_word_count_10.csv')\n",
    "word2vec_test = pd.read_csv('feature_vectors/test-word2vec-num_features_100_min_word_count_10.csv')\n",
    "\n",
    "\n",
    "df_list = [labels_train, sentiment_train, word2vec_train]\n",
    "train = df_list[0]\n",
    "for df in df_list[1:]:\n",
    "    train = train.merge(df, on='id')\n",
    "    \n",
    "df_list = [labels_test, sentiment_test, word2vec_test]\n",
    "test = df_list[0]\n",
    "for df in df_list[1:]:\n",
    "    test = test.merge(df, on='id')\n",
    "    \n",
    "train.head()"
   ]
  },
  {
   "cell_type": "code",
   "execution_count": 21,
   "metadata": {},
   "outputs": [
    {
     "data": {
      "text/plain": [
       "0.240625"
      ]
     },
     "execution_count": 21,
     "metadata": {},
     "output_type": "execute_result"
    }
   ],
   "source": [
    "labels = [1 if s=='OFF' else 0 for s in df_list[0]['subtask_a']]\n",
    "sum(labels)/len(labels)"
   ]
  },
  {
   "cell_type": "code",
   "execution_count": 22,
   "metadata": {
    "collapsed": true
   },
   "outputs": [],
   "source": [
    "# Split the data\n",
    "\n",
    "from sklearn.preprocessing import LabelEncoder\n",
    "binarizer = LabelEncoder()\n",
    "\n",
    "y_a_train = binarizer.fit_transform(train.iloc[:,1].astype(str))\n",
    "y_b_train = binarizer.fit_transform(train.iloc[:,2].astype(str))\n",
    "y_c_train = binarizer.fit_transform(train.iloc[:,3].astype(str))\n",
    "X_train = train.iloc[:,4:]\n",
    "\n",
    "y_a_test = binarizer.fit_transform(test.iloc[:,1].astype(str))\n",
    "y_b_test = binarizer.fit_transform(test.iloc[:,2].astype(str))\n",
    "y_c_test = binarizer.fit_transform(test.iloc[:,3].astype(str))\n",
    "X_test = test.iloc[:,4:]\n",
    "\n",
    "# smushed = np.append(X_train, np.array([y_a_train]).T, axis=1)\n",
    "# not_off = np.array([entry for entry in smushed if entry[6] == 0])\n",
    "# off = np.array([entry for entry in smushed if entry[6] == 1])\n",
    "# idx = np.random.choice(off.shape[0], not_off.shape[0] - off.shape[0], replace=True)\n",
    "# sampled = off[idx,:]\n",
    "# normed = np.append(smushed, sampled, axis=0)\n",
    "# print(normed.shape)\n",
    "# np.random.shuffle(normed)\n",
    "# y_a_train = normed[:, 6]\n",
    "# X_train = pd.DataFrame(normed[:, :6], columns=['hate_count', 'positive_count', 'negative_count', \n",
    "#                                                'hate_normalized', 'positive_normalized', 'negative_normalized'])"
   ]
  },
  {
   "cell_type": "code",
   "execution_count": 23,
   "metadata": {},
   "outputs": [],
   "source": [
    "# Scale the data to be normalized\n",
    "\n",
    "from sklearn.preprocessing import StandardScaler\n",
    "scaler = StandardScaler()\n",
    "scaler.fit(X_train)\n",
    "X_train_scale = scaler.transform(X_train)\n",
    "X_test_scale = scaler.transform(X_test)"
   ]
  },
  {
   "cell_type": "code",
   "execution_count": 24,
   "metadata": {},
   "outputs": [],
   "source": [
    "# Create different classifiers\n",
    "\n",
    "from sklearn.neural_network import MLPClassifier\n",
    "from sklearn.ensemble import RandomForestClassifier\n",
    "from sklearn.ensemble import GradientBoostingClassifier\n",
    "from xgboost import XGBClassifier\n",
    "from sklearn.linear_model import LogisticRegression\n",
    "from sklearn.metrics import f1_score\n",
    "from sklearn.svm import SVC\n",
    "\n",
    "lr = LogisticRegression(random_state=seed)\n",
    "gb = GradientBoostingClassifier(random_state=seed)\n",
    "xgb = XGBClassifier(random_state=seed)\n",
    "mlp = MLPClassifier(random_state=seed)\n",
    "rf = RandomForestClassifier(random_state=seed)\n",
    "svc = SVC(random_state=seed)"
   ]
  },
  {
   "cell_type": "code",
   "execution_count": 25,
   "metadata": {},
   "outputs": [
    {
     "data": {
      "text/plain": [
       "0.4462809917355372"
      ]
     },
     "execution_count": 25,
     "metadata": {},
     "output_type": "execute_result"
    }
   ],
   "source": [
    "# Logistic Regression\n",
    "lr.fit(X_train, y_a_train)\n",
    "f1_score(lr.predict(X_test), y_a_test)"
   ]
  },
  {
   "cell_type": "code",
   "execution_count": 26,
   "metadata": {},
   "outputs": [
    {
     "data": {
      "text/plain": [
       "0.4148148148148148"
      ]
     },
     "execution_count": 26,
     "metadata": {},
     "output_type": "execute_result"
    }
   ],
   "source": [
    "# Gradient Boosting Classifier\n",
    "gb.fit(X_train, y_a_train)\n",
    "f1_score(gb.predict(X_test), y_a_test)"
   ]
  },
  {
   "cell_type": "code",
   "execution_count": 27,
   "metadata": {},
   "outputs": [
    {
     "name": "stderr",
     "output_type": "stream",
     "text": [
      "C:\\ProgramData\\Anaconda3\\lib\\site-packages\\sklearn\\preprocessing\\label.py:151: DeprecationWarning: The truth value of an empty array is ambiguous. Returning False, but in future this will result in an error. Use `array.size > 0` to check that an array is not empty.\n",
      "  if diff:\n"
     ]
    },
    {
     "data": {
      "text/plain": [
       "0.44274809160305345"
      ]
     },
     "execution_count": 27,
     "metadata": {},
     "output_type": "execute_result"
    }
   ],
   "source": [
    "# XGB Classifier\n",
    "xgb.fit(X_train, y_a_train)\n",
    "f1_score(xgb.predict(X_test), y_a_test)"
   ]
  },
  {
   "cell_type": "code",
   "execution_count": 28,
   "metadata": {},
   "outputs": [
    {
     "data": {
      "text/plain": [
       "0.46511627906976744"
      ]
     },
     "execution_count": 28,
     "metadata": {},
     "output_type": "execute_result"
    }
   ],
   "source": [
    "# MLP Classifier\n",
    "mlp.fit(X_train, y_a_train)\n",
    "f1_score(mlp.predict(X_test), y_a_test)"
   ]
  },
  {
   "cell_type": "code",
   "execution_count": 29,
   "metadata": {},
   "outputs": [
    {
     "data": {
      "text/plain": [
       "0.35714285714285715"
      ]
     },
     "execution_count": 29,
     "metadata": {},
     "output_type": "execute_result"
    }
   ],
   "source": [
    "# Random Forest Classifier\n",
    "\n",
    "rf.fit(X_train, y_a_train)\n",
    "f1_score(rf.predict(X_test), y_a_test)"
   ]
  },
  {
   "cell_type": "code",
   "execution_count": 30,
   "metadata": {},
   "outputs": [
    {
     "data": {
      "text/plain": [
       "0.38888888888888884"
      ]
     },
     "execution_count": 30,
     "metadata": {},
     "output_type": "execute_result"
    }
   ],
   "source": [
    "svc.fit(X_train, y_a_train)\n",
    "f1_score(svc.predict(X_test), y_a_test)"
   ]
  },
  {
   "cell_type": "code",
   "execution_count": 31,
   "metadata": {
    "collapsed": true
   },
   "outputs": [],
   "source": [
    "import numpy as np\n",
    "import matplotlib.pyplot as plt\n",
    "import itertools\n",
    "\n",
    "def plot_confusion_matrix(cm, classes=None, normalize=False, title='Confusion matrix', cmap=plt.cm.Blues):\n",
    "    \"\"\"\n",
    "    This function prints and plots the confusion matrix.\n",
    "    Normalization can be applied by setting `normalize=True`.\n",
    "    \"\"\"\n",
    "    if normalize:\n",
    "        cm = cm.astype('float') / cm.sum(axis=1)[:, np.newaxis]\n",
    "        print(\"Normalized confusion matrix\")\n",
    "    else:\n",
    "        print('Confusion matrix, without normalization')\n",
    "\n",
    "    print(cm)\n",
    "\n",
    "    plt.figure()\n",
    "    plt.imshow(cm, interpolation='nearest', cmap=cmap)\n",
    "    plt.title(title)\n",
    "    plt.colorbar()\n",
    "    \n",
    "    if classes:\n",
    "        tick_marks = np.arange(len(classes))\n",
    "        plt.xticks(tick_marks, classes, rotation=45)\n",
    "        plt.yticks(tick_marks, classes)\n",
    "\n",
    "    fmt = '.2f' if normalize else 'd'\n",
    "    thresh = cm.max() / 2.\n",
    "    for i, j in itertools.product(range(cm.shape[0]), range(cm.shape[1])):\n",
    "        plt.text(j, i, format(cm[i, j], fmt),\n",
    "                 horizontalalignment=\"center\",\n",
    "                 color=\"white\" if cm[i, j] > thresh else \"black\")\n",
    "\n",
    "    plt.ylabel('True label')\n",
    "    plt.xlabel('Predicted label')\n",
    "    plt.tight_layout()\n",
    "    plt.show()"
   ]
  },
  {
   "cell_type": "code",
   "execution_count": 32,
   "metadata": {},
   "outputs": [
    {
     "name": "stderr",
     "output_type": "stream",
     "text": [
      "C:\\ProgramData\\Anaconda3\\lib\\site-packages\\sklearn\\preprocessing\\label.py:151: DeprecationWarning: The truth value of an empty array is ambiguous. Returning False, but in future this will result in an error. Use `array.size > 0` to check that an array is not empty.\n",
      "  if diff:\n",
      "C:\\ProgramData\\Anaconda3\\lib\\site-packages\\sklearn\\preprocessing\\label.py:151: DeprecationWarning: The truth value of an empty array is ambiguous. Returning False, but in future this will result in an error. Use `array.size > 0` to check that an array is not empty.\n",
      "  if diff:\n"
     ]
    },
    {
     "name": "stdout",
     "output_type": "stream",
     "text": [
      "Confusion matrix, without normalization\n",
      "[[222  21]\n",
      " [ 49  28]]\n"
     ]
    },
    {
     "data": {
      "image/png": "[encoded data removed]",
      "text/plain": [
       "<matplotlib.figure.Figure at 0x1bf835bf048>"
      ]
     },
     "metadata": {},
     "output_type": "display_data"
    },
    {
     "name": "stdout",
     "output_type": "stream",
     "text": [
      "F1: 0.4444444444444444\n"
     ]
    }
   ],
   "source": [
    "from sklearn.ensemble import VotingClassifier\n",
    "from sklearn.metrics import confusion_matrix, accuracy_score\n",
    "\n",
    "estimators=[]\n",
    "estimators.append(('gb', gb))\n",
    "estimators.append(('lr', lr))\n",
    "estimators.append(('mlp', mlp))\n",
    "estimators.append(('xgb', xgb))\n",
    "\n",
    "ensemble = VotingClassifier(estimators, voting='hard')\n",
    "ensemble.fit(X_train, y_a_train)\n",
    "y_pred = ensemble.predict(X_test)\n",
    "matrix = confusion_matrix(y_a_test, y_pred)\n",
    "\n",
    "plot_confusion_matrix(matrix)\n",
    "print('F1: {}'.format(f1_score(y_a_test, y_pred)))"
   ]
  },
  {
   "cell_type": "code",
   "execution_count": 33,
   "metadata": {},
   "outputs": [
    {
     "name": "stdout",
     "output_type": "stream",
     "text": [
      "Confusion matrix, without normalization\n",
      "[[218  25]\n",
      " [ 46  31]]\n"
     ]
    },
    {
     "data": {
      "image/png": "[encoded data removed]",
      "text/plain": [
       "<matplotlib.figure.Figure at 0x1bfdb6a8a20>"
      ]
     },
     "metadata": {},
     "output_type": "display_data"
    },
    {
     "name": "stdout",
     "output_type": "stream",
     "text": [
      "F1: 0.46616541353383456\n"
     ]
    }
   ],
   "source": [
    "from mlxtend.classifier import StackingCVClassifier\n",
    "\n",
    "np.random.seed(seed)\n",
    "stack = StackingCVClassifier(classifiers=[gb, lr, mlp, xgb], cv=2, meta_classifier=mlp, use_probas=True)\n",
    "stack.fit(X_train.values, y_a_train)\n",
    "y_pred = stack.predict(X_test.values)\n",
    "matrix = confusion_matrix(y_a_test, y_pred)\n",
    "\n",
    "plot_confusion_matrix(matrix)\n",
    "print('F1: {}'.format(f1_score(y_a_test, y_pred)))"
   ]
  },
  {
   "cell_type": "code",
   "execution_count": null,
   "metadata": {
    "collapsed": true
   },
   "outputs": [],
   "source": []
  }
 ],
 "metadata": {
  "kernelspec": {
   "display_name": "Python 3",
   "language": "python",
   "name": "python3"
  },
  "language_info": {
   "codemirror_mode": {
    "name": "ipython",
    "version": 3
   },
   "file_extension": ".py",
   "mimetype": "text/x-python",
   "name": "python",
   "nbconvert_exporter": "python",
   "pygments_lexer": "ipython3",
   "version": "3.6.3"
  }
 },
 "nbformat": 4,
 "nbformat_minor": 2
}
